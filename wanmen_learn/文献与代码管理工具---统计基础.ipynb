{
 "cells": [
  {
   "cell_type": "markdown",
   "metadata": {},
   "source": [
    "# 1、git"
   ]
  },
  {
   "cell_type": "markdown",
   "metadata": {},
   "source": [
    "1、基本命令\n",
    "  git init 创建新的repository\n",
    "  git clone 克隆一个repository\n",
    "  git add 加入新的内容到缓存区\n",
    "  git commit 实际提交改动\n",
    "  git push -u origin master推送代码到远端\n",
    "  git checkout -b 创建新分支\n",
    "  git branch 查看分支\n",
    "  git pull 拉取并合并远端版本\n",
    "  git merge 合并版本\n",
    "  git log 查看记录"
   ]
  },
  {
   "cell_type": "markdown",
   "metadata": {},
   "source": [
    "本地可分为3部分：工作区，暂存区，代码库"
   ]
  },
  {
   "cell_type": "markdown",
   "metadata": {},
   "source": [
    "2、操作步骤\n",
    "  a、创建新的repository（本机、远端）\n",
    "    先本机后远端\n",
    "  b、本机创建，创建文件夹，进入后git init初始化。\n",
    "  c、或者克隆"
   ]
  },
  {
   "cell_type": "markdown",
   "metadata": {},
   "source": [
    "3、登录个人github页面，创建新的repository，创建你后会提示操作。\n",
    "  git remote add origin https://github.com/ly1992520/my_love.git\n",
    "  git push -u origin master\n",
    "  会自动将本地初始化文件夹下的内容同步到远端。\n",
    "  \n",
    "  若电脑第一次配置，需要先添加邮箱地址和用户名\n",
    "  git config --global user.email  ***\n",
    "  git config --global user.name  ***"
   ]
  },
  {
   "cell_type": "code",
   "execution_count": null,
   "metadata": {},
   "outputs": [],
   "source": []
  },
  {
   "cell_type": "markdown",
   "metadata": {},
   "source": [
    "# 2、Mendeley"
   ]
  },
  {
   "cell_type": "markdown",
   "metadata": {},
   "source": [
    "mendeley 是一款免费的文献管理软件，有一键抓取网页上的文本添加到个人library中的功能，安装插件后还可以编辑文本。"
   ]
  }
 ],
 "metadata": {
  "kernelspec": {
   "display_name": "Python 3",
   "language": "python",
   "name": "python3"
  },
  "language_info": {
   "codemirror_mode": {
    "name": "ipython",
    "version": 3
   },
   "file_extension": ".py",
   "mimetype": "text/x-python",
   "name": "python",
   "nbconvert_exporter": "python",
   "pygments_lexer": "ipython3",
   "version": "3.7.3"
  }
 },
 "nbformat": 4,
 "nbformat_minor": 2
}
